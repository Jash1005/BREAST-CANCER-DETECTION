{
 "cells": [
  {
   "cell_type": "code",
   "execution_count": 1,
   "id": "0d29933e-9ad6-4f40-8d5d-6279edfc82a8",
   "metadata": {},
   "outputs": [
    {
     "name": "stdout",
     "output_type": "stream",
     "text": [
      "3.0.1\n"
     ]
    }
   ],
   "source": [
    "import PyPDF2\n",
    "print(PyPDF2.__version__)"
   ]
  },
  {
   "cell_type": "code",
   "execution_count": 2,
   "id": "11c42b5b-b4e3-4152-8960-06c1abe04b6b",
   "metadata": {},
   "outputs": [
    {
     "name": "stdout",
     "output_type": "stream",
     "text": [
      "2\n"
     ]
    }
   ],
   "source": [
    "file = open(\"Breast_Cancer_Report.pdf\",\"rb\") # opening in read binary form\n",
    "\n",
    "reader = PyPDF2.PdfReader(file)\n",
    "\n",
    "print(len(reader.pages))"
   ]
  },
  {
   "cell_type": "code",
   "execution_count": 7,
   "id": "533700cd-3d52-4b24-a728-6088a4f87c55",
   "metadata": {},
   "outputs": [
    {
     "name": "stdout",
     "output_type": "stream",
     "text": [
      "radius_mean => 18.0\n",
      "texture_mean => 22.0\n",
      "perimeter_mean => 120.0\n",
      "area_mean => 1000.0\n",
      "smoothness_mean => 0.11\n",
      "compactness_mean => 0.2\n",
      "concavity_mean => 0.18\n",
      "concave_points_mean => 0.09\n",
      "symmetry_mean => 0.2\n",
      "fractal_dimension_mean => 0.07\n",
      "radius_se => 0.6\n",
      "texture_se => 1.2\n",
      "perimeter_se => 4.0\n",
      "area_se => 80.0\n",
      "smoothness_se => 0.008\n",
      "compactness_se => 0.05\n",
      "concavity_se => 0.04\n",
      "concave_points_se => 0.015\n",
      "symmetry_se => 0.025\n",
      "fractal_dimension_se => 0.005\n",
      "radius_worst => 25.0\n",
      "texture_worst => 32.0\n",
      "perimeter_worst => 170.0\n",
      "area_worst => 2000.0\n",
      "smoothness_worst => 0.15\n",
      "compactness_worst => 0.4\n",
      "concavity_worst => 0.45\n",
      "concave_points_worst => 0.2\n",
      "symmetry_worst => 0.35\n",
      "fractal_dimension_worst => 0.1\n"
     ]
    }
   ],
   "source": [
    "import re\n",
    "\n",
    "for i in range(len(reader.pages)):\n",
    "    \n",
    "    page = reader.pages[i]\n",
    "    page_data = page.extract_text()\n",
    "    \n",
    "    # Pattern to extract lines like \" - Radius Mean: 11.0\"\n",
    "    pattern = r\"- ([\\w\\s]+): ([\\d.]+)\"\n",
    "\n",
    "    # Find all matches\n",
    "    matches = re.findall(pattern, page_data)\n",
    "\n",
    "    # Convert to dictionary\n",
    "    attribute_values = {name.strip().replace(\" \", \"_\").lower(): float(value) for name, value in matches}\n",
    "\n",
    "    # Print the results\n",
    "    for attr, val in attribute_values.items():\n",
    "       print(f\"{attr} => {val}\")\n",
    "    "
   ]
  }
 ],
 "metadata": {
  "kernelspec": {
   "display_name": "Python 3 (ipykernel)",
   "language": "python",
   "name": "python3"
  },
  "language_info": {
   "codemirror_mode": {
    "name": "ipython",
    "version": 3
   },
   "file_extension": ".py",
   "mimetype": "text/x-python",
   "name": "python",
   "nbconvert_exporter": "python",
   "pygments_lexer": "ipython3",
   "version": "3.13.5"
  }
 },
 "nbformat": 4,
 "nbformat_minor": 5
}
